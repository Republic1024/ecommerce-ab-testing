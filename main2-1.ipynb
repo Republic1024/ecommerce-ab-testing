{
 "cells": [
  {
   "cell_type": "code",
   "execution_count": 6,
   "id": "initial_id",
   "metadata": {
    "collapsed": true,
    "ExecuteTime": {
     "end_time": "2025-09-22T14:24:23.615094Z",
     "start_time": "2025-09-22T14:24:23.448202Z"
    }
   },
   "outputs": [
    {
     "data": {
      "text/plain": "Index(['Unnamed: 0', 'user id', 'test group', 'converted', 'total ads',\n       'most ads day', 'most ads hour'],\n      dtype='object')"
     },
     "execution_count": 6,
     "metadata": {},
     "output_type": "execute_result"
    }
   ],
   "source": [
    "# Import required libraries\n",
    "import pandas as pd\n",
    "import numpy as np\n",
    "from scipy import stats\n",
    "from scipy.stats import chi2_contingency, ttest_ind, mannwhitneyu, norm\n",
    "import matplotlib\n",
    "\n",
    "matplotlib.use('Agg')  # Use non-interactive backend to avoid PyCharm conflicts\n",
    "import matplotlib.pyplot as plt\n",
    "import seaborn as sns\n",
    "from statsmodels.stats.power import TTestIndPower\n",
    "from statsmodels.stats.proportion import proportions_ztest\n",
    "from datetime import datetime, timedelta\n",
    "import warnings\n",
    "\n",
    "warnings.filterwarnings('ignore')\n",
    "\n",
    "df = pd.read_csv(\"marketing_AB.csv\")\n",
    "df.columns"
   ]
  },
  {
   "cell_type": "code",
   "outputs": [
    {
     "data": {
      "text/plain": "          Unnamed: 0       user id      total ads  most ads hour\ncount  588101.000000  5.881010e+05  588101.000000  588101.000000\nmean   294050.000000  1.310692e+06      24.820876      14.469061\nstd    169770.279667  2.022260e+05      43.715181       4.834634\nmin         0.000000  9.000000e+05       1.000000       0.000000\n25%    147025.000000  1.143190e+06       4.000000      11.000000\n50%    294050.000000  1.313725e+06      13.000000      14.000000\n75%    441075.000000  1.484088e+06      27.000000      18.000000\nmax    588100.000000  1.654483e+06    2065.000000      23.000000",
      "text/html": "<div>\n<style scoped>\n    .dataframe tbody tr th:only-of-type {\n        vertical-align: middle;\n    }\n\n    .dataframe tbody tr th {\n        vertical-align: top;\n    }\n\n    .dataframe thead th {\n        text-align: right;\n    }\n</style>\n<table border=\"1\" class=\"dataframe\">\n  <thead>\n    <tr style=\"text-align: right;\">\n      <th></th>\n      <th>Unnamed: 0</th>\n      <th>user id</th>\n      <th>total ads</th>\n      <th>most ads hour</th>\n    </tr>\n  </thead>\n  <tbody>\n    <tr>\n      <th>count</th>\n      <td>588101.000000</td>\n      <td>5.881010e+05</td>\n      <td>588101.000000</td>\n      <td>588101.000000</td>\n    </tr>\n    <tr>\n      <th>mean</th>\n      <td>294050.000000</td>\n      <td>1.310692e+06</td>\n      <td>24.820876</td>\n      <td>14.469061</td>\n    </tr>\n    <tr>\n      <th>std</th>\n      <td>169770.279667</td>\n      <td>2.022260e+05</td>\n      <td>43.715181</td>\n      <td>4.834634</td>\n    </tr>\n    <tr>\n      <th>min</th>\n      <td>0.000000</td>\n      <td>9.000000e+05</td>\n      <td>1.000000</td>\n      <td>0.000000</td>\n    </tr>\n    <tr>\n      <th>25%</th>\n      <td>147025.000000</td>\n      <td>1.143190e+06</td>\n      <td>4.000000</td>\n      <td>11.000000</td>\n    </tr>\n    <tr>\n      <th>50%</th>\n      <td>294050.000000</td>\n      <td>1.313725e+06</td>\n      <td>13.000000</td>\n      <td>14.000000</td>\n    </tr>\n    <tr>\n      <th>75%</th>\n      <td>441075.000000</td>\n      <td>1.484088e+06</td>\n      <td>27.000000</td>\n      <td>18.000000</td>\n    </tr>\n    <tr>\n      <th>max</th>\n      <td>588100.000000</td>\n      <td>1.654483e+06</td>\n      <td>2065.000000</td>\n      <td>23.000000</td>\n    </tr>\n  </tbody>\n</table>\n</div>"
     },
     "execution_count": 8,
     "metadata": {},
     "output_type": "execute_result"
    }
   ],
   "source": [
    "df.describe()"
   ],
   "metadata": {
    "collapsed": false,
    "ExecuteTime": {
     "end_time": "2025-09-22T14:27:33.774112Z",
     "start_time": "2025-09-22T14:27:33.690402Z"
    }
   },
   "id": "ee184969c2d31ea4",
   "execution_count": 8
  },
  {
   "cell_type": "code",
   "outputs": [
    {
     "data": {
      "text/plain": "   Unnamed: 0  user id test group  converted  total ads most ads day  \\\n0           0  1069124         ad      False        130       Monday   \n1           1  1119715         ad      False         93      Tuesday   \n2           2  1144181         ad      False         21      Tuesday   \n3           3  1435133         ad      False        355      Tuesday   \n4           4  1015700         ad      False        276       Friday   \n\n   most ads hour  \n0             20  \n1             22  \n2             18  \n3             10  \n4             14  ",
      "text/html": "<div>\n<style scoped>\n    .dataframe tbody tr th:only-of-type {\n        vertical-align: middle;\n    }\n\n    .dataframe tbody tr th {\n        vertical-align: top;\n    }\n\n    .dataframe thead th {\n        text-align: right;\n    }\n</style>\n<table border=\"1\" class=\"dataframe\">\n  <thead>\n    <tr style=\"text-align: right;\">\n      <th></th>\n      <th>Unnamed: 0</th>\n      <th>user id</th>\n      <th>test group</th>\n      <th>converted</th>\n      <th>total ads</th>\n      <th>most ads day</th>\n      <th>most ads hour</th>\n    </tr>\n  </thead>\n  <tbody>\n    <tr>\n      <th>0</th>\n      <td>0</td>\n      <td>1069124</td>\n      <td>ad</td>\n      <td>False</td>\n      <td>130</td>\n      <td>Monday</td>\n      <td>20</td>\n    </tr>\n    <tr>\n      <th>1</th>\n      <td>1</td>\n      <td>1119715</td>\n      <td>ad</td>\n      <td>False</td>\n      <td>93</td>\n      <td>Tuesday</td>\n      <td>22</td>\n    </tr>\n    <tr>\n      <th>2</th>\n      <td>2</td>\n      <td>1144181</td>\n      <td>ad</td>\n      <td>False</td>\n      <td>21</td>\n      <td>Tuesday</td>\n      <td>18</td>\n    </tr>\n    <tr>\n      <th>3</th>\n      <td>3</td>\n      <td>1435133</td>\n      <td>ad</td>\n      <td>False</td>\n      <td>355</td>\n      <td>Tuesday</td>\n      <td>10</td>\n    </tr>\n    <tr>\n      <th>4</th>\n      <td>4</td>\n      <td>1015700</td>\n      <td>ad</td>\n      <td>False</td>\n      <td>276</td>\n      <td>Friday</td>\n      <td>14</td>\n    </tr>\n  </tbody>\n</table>\n</div>"
     },
     "execution_count": 7,
     "metadata": {},
     "output_type": "execute_result"
    }
   ],
   "source": [
    "df.head()"
   ],
   "metadata": {
    "collapsed": false,
    "ExecuteTime": {
     "end_time": "2025-09-22T14:27:20.719535Z",
     "start_time": "2025-09-22T14:27:20.651342Z"
    }
   },
   "id": "4874117367c4f6bd",
   "execution_count": 7
  }
 ],
 "metadata": {
  "kernelspec": {
   "display_name": "Python 3",
   "language": "python",
   "name": "python3"
  },
  "language_info": {
   "codemirror_mode": {
    "name": "ipython",
    "version": 2
   },
   "file_extension": ".py",
   "mimetype": "text/x-python",
   "name": "python",
   "nbconvert_exporter": "python",
   "pygments_lexer": "ipython2",
   "version": "2.7.6"
  }
 },
 "nbformat": 4,
 "nbformat_minor": 5
}
